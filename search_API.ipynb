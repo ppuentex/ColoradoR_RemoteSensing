{
 "cells": [
  {
   "attachments": {},
   "cell_type": "markdown",
   "metadata": {},
   "source": [
    "### Attempt to do this on locally before going on Cyverse"
   ]
  },
  {
   "attachments": {},
   "cell_type": "markdown",
   "metadata": {},
   "source": [
    "Seaching and request imagery - I think this can be done within Planet and then download it within Cyverse \n",
    "This notebook follows the workflow from [Planet Labs search and download quickstart](https://github.com/planetlabs/notebooks/blob/master/jupyter-notebooks/data-api-tutorials/search_and_download_quickstart.ipynb)"
   ]
  },
  {
   "cell_type": "code",
   "execution_count": null,
   "metadata": {},
   "outputs": [
    {
     "ename": "",
     "evalue": "",
     "output_type": "error",
     "traceback": [
      "\u001b[1;31mFailed to start the Kernel. \n",
      "\u001b[1;31mJupyter server crashed. Unable to connect. \n",
      "\u001b[1;31mError code from Jupyter: 1\n",
      "\u001b[1;31mTraceback (most recent call last):\n",
      "\u001b[1;31m  File \"/opt/anaconda3/lib/python3.7/runpy.py\", line 193, in _run_module_as_main\n",
      "\u001b[1;31m\n",
      "\u001b[1;31m    \"__main__\", mod_spec)\n",
      "\u001b[1;31m  File \"/opt/anaconda3/lib/python3.7/runpy.py\", line 85, in _run_code\n",
      "\u001b[1;31m\n",
      "\u001b[1;31m    exec(code, run_globals)\n",
      "\u001b[1;31m  File \"/opt/anaconda3/lib/python3.7/site-packages/jupyter.py\", line 4, in <module>\n",
      "\u001b[1;31m\n",
      "\u001b[1;31m    main()\n",
      "\u001b[1;31m  File \"/opt/anaconda3/lib/python3.7/site-packages/jupyter_core/command.py\", line 230, in main\n",
      "\u001b[1;31m\n",
      "\u001b[1;31m    command = _jupyter_abspath(subcommand)\n",
      "\u001b[1;31m  File \"/opt/anaconda3/lib/python3.7/site-packages/jupyter_core/command.py\", line 133, in _jupyter_abspath\n",
      "\u001b[1;31m\n",
      "\u001b[1;31m    'Jupyter command `{}` not found.'.format(jupyter_subcommand)\n",
      "\u001b[1;31mException: Jupyter command `jupyter-notebook` not found. \n",
      "\u001b[1;31mView Jupyter <a href='command:jupyter.viewOutput'>log</a> for further details."
     ]
    }
   ],
   "source": [
    "import os \n",
    "\n",
    "# if your Planet API Key is not set as an environment variable, you can paste it below\n",
    "if os.environ.get('PL_API_KEY', ''):\n",
    "    API_KEY = os.environ.get('PL_API_KEY', '')\n",
    "else:\n",
    "    API_KEY = 'YOUR_API_KEY' \n",
    "    #API_KEY = ''"
   ]
  },
  {
   "cell_type": "markdown",
   "metadata": {},
   "source": []
  }
 ],
 "metadata": {
  "kernelspec": {
   "display_name": "anaconda3",
   "language": "python",
   "name": "python3"
  },
  "language_info": {
   "name": "python",
   "version": "3.7.4"
  },
  "orig_nbformat": 4,
  "vscode": {
   "interpreter": {
    "hash": "40d3a090f54c6569ab1632332b64b2c03c39dcf918b08424e98f38b5ae0af88f"
   }
  }
 },
 "nbformat": 4,
 "nbformat_minor": 2
}
